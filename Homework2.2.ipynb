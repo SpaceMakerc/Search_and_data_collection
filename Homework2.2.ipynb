{
 "cells": [
  {
   "cell_type": "markdown",
   "id": "f9e65ed0",
   "metadata": {},
   "source": [
    "#### 1 - Написать приложение или функцию, которые собирают основные новости с сайта на выбор lenta.ru, yandex-новости. Для парсинга использовать XPath.\n",
    "#### Структура данных в виде словаря должна содержать:\n",
    "#### - *название источника;\n",
    "#### - наименование новости;\n",
    "#### - ссылку на новость;\n",
    "#### - дата публикации."
   ]
  },
  {
   "cell_type": "code",
   "execution_count": 1,
   "id": "bddbee00",
   "metadata": {},
   "outputs": [],
   "source": [
    "import requests\n",
    "from pprint import pprint\n",
    "from lxml import html"
   ]
  },
  {
   "cell_type": "code",
   "execution_count": 3,
   "id": "80520634",
   "metadata": {},
   "outputs": [
    {
     "name": "stdout",
     "output_type": "stream",
     "text": [
      "200\n"
     ]
    }
   ],
   "source": [
    "url = 'https://lenta.ru/'\n",
    "headers = {'User-Agent' : 'Mozilla/5.0 (Windows NT 10.0; Win64; x64) AppleWebKit/537.36 (KHTML, like Gecko) Chrome/105.0.0.0 Safari/537.36 Edg/105.0.1343.27'}\n",
    "\n",
    "response = requests.get(url, headers=headers)\n",
    "print(response.status_code)"
   ]
  },
  {
   "cell_type": "code",
   "execution_count": 7,
   "id": "28c55f16",
   "metadata": {},
   "outputs": [],
   "source": [
    "dom = html.fromstring(response.text)\n",
    "\n",
    "all_news = dom.xpath(\"//div[@class='topnews__column']/a\")\n",
    "\n",
    "#name_news = dom.xpath(\"./div[@class='card-mini__text']/span/text()\")\n",
    "#time_news = dom.xpath(\"//div[@class='topnews__column']/a/div[@class='card-mini__text']/div[@class='card-mini__info']/time/text()\")\n",
    "# не забыть поправить ссылки\n",
    "#links_news = dom.xpath(\"//div[@class='topnews__column']/a/@href\")"
   ]
  },
  {
   "cell_type": "code",
   "execution_count": 4,
   "id": "c05b0f1e",
   "metadata": {},
   "outputs": [],
   "source": [
    "NEWS_dict = {}\n",
    "for news in all_news:\n",
    "    name_news = news.xpath(\"./div[@class='card-mini__text']/span/text()\")[0]\n",
    "    news_time = news.xpath(\"./div[@class='card-mini__text']/div[@class='card-mini__info']/time/text()\")[0]\n",
    "    news_link = news.xpath(\"./@href\")[0]\n",
    "    NEWS_dict[name_news] = {\n",
    "        'name' : url,\n",
    "        'time' : news_time,\n",
    "        'link' : url + news_link\n",
    "    }"
   ]
  },
  {
   "cell_type": "code",
   "execution_count": 5,
   "id": "56627fd5",
   "metadata": {},
   "outputs": [
    {
     "data": {
      "text/plain": [
       "{'TikTok прокомментировал сообщения об утечке данных': {'name': 'https://lenta.ru/',\n",
       "  'time': '16:37',\n",
       "  'link': 'https://lenta.ru//news/2022/09/05/tiktok/'},\n",
       " 'В Минздраве назвали правильную для пожилых людей регулярность питания': {'name': 'https://lenta.ru/',\n",
       "  'time': '16:33',\n",
       "  'link': 'https://lenta.ru//news/2022/09/05/frequency/'},\n",
       " 'В Германии призвали граждан готовиться к трудной зиме': {'name': 'https://lenta.ru/',\n",
       "  'time': '16:32',\n",
       "  'link': 'https://lenta.ru//news/2022/09/05/germanyy/'},\n",
       " 'Советник главы «Роскосмоса» Сафронов сможет выйти по УДО через 15 лет': {'name': 'https://lenta.ru/',\n",
       "  'time': '16:30',\n",
       "  'link': 'https://lenta.ru//news/2022/09/05/roskosmudo/'},\n",
       " 'Шнуров поделился мнением о Кокорине и Дзюбе': {'name': 'https://lenta.ru/',\n",
       "  'time': '16:28',\n",
       "  'link': 'https://lenta.ru//news/2022/09/05/shnurov_football/'},\n",
       " '«Одноклассники» запустили движение благодарностей учителям': {'name': 'https://lenta.ru/',\n",
       "  'time': '16:21',\n",
       "  'link': 'https://lenta.ru//news/2022/09/05/odnoklassniki/'},\n",
       " 'Германии предсказали кризис вопреки помощи населению': {'name': 'https://lenta.ru/',\n",
       "  'time': '16:21',\n",
       "  'link': 'https://lenta.ru//news/2022/09/05/nothelp/'},\n",
       " 'Поклонник Шуфутинского умер 3 сентября на его концерте в Москве': {'name': 'https://lenta.ru/',\n",
       "  'time': '16:21',\n",
       "  'link': 'https://lenta.ru/https://moslenta.ru/news/city/poklonnik-shufutinskogo-umer-05-09-2022.htm/'},\n",
       " 'Защита обжалует приговор советнику главы «Роскосмоса» Сафронову': {'name': 'https://lenta.ru/',\n",
       "  'time': '16:18',\n",
       "  'link': 'https://lenta.ru//news/2022/09/05/safrzah/'},\n",
       " 'Российскую САУ «Мста-С» в калибре НАТО покажут на выставке ADEX': {'name': 'https://lenta.ru/',\n",
       "  'time': '16:17',\n",
       "  'link': 'https://lenta.ru//news/2022/09/05/mstas155/'},\n",
       " 'США отправили ядерные бомбардировщики на Ближний Восток': {'name': 'https://lenta.ru/',\n",
       "  'time': '16:13',\n",
       "  'link': 'https://lenta.ru//news/2022/09/05/b52/'},\n",
       " 'Альпинист назвал возможные причины гибели российских туристов на Камчатке': {'name': 'https://lenta.ru/',\n",
       "  'time': '15:37',\n",
       "  'link': 'https://lenta.ru//news/2022/09/05/tragedy_causes/'}}"
      ]
     },
     "execution_count": 5,
     "metadata": {},
     "output_type": "execute_result"
    }
   ],
   "source": [
    "NEWS_dict"
   ]
  },
  {
   "cell_type": "markdown",
   "id": "f1039534",
   "metadata": {},
   "source": [
    "#### 2 - https://yandex.ru/news/"
   ]
  },
  {
   "cell_type": "code",
   "execution_count": 4,
   "id": "82984099",
   "metadata": {},
   "outputs": [
    {
     "name": "stdout",
     "output_type": "stream",
     "text": [
      "200\n"
     ]
    }
   ],
   "source": [
    "url = 'https://yandex.ru/news/'\n",
    "\n",
    "response = requests.get(url, headers=headers)\n",
    "print(response.status_code)"
   ]
  },
  {
   "cell_type": "code",
   "execution_count": 61,
   "id": "0f2ba096",
   "metadata": {},
   "outputs": [],
   "source": [
    "dom = html.fromstring(response.text)\n",
    "\n",
    "#all_news = dom.xpath(\"//section[@aria-labelledby='top-heading']/div/div\")\n",
    "\n",
    "#LLL = dom.xpath(\"//section[@aria-labelledby='top-heading']/div/div/div/div[@class='mg-card__text-content']/div/h2/a/text()\")\n",
    "\n",
    "name_news = dom.xpath(\"//section[@aria-labelledby='top-heading']/div/div/div/div[@class='mg-card__text-content']/div/h2/a/text()\")\n",
    "time_news = dom.xpath(\"//section[@aria-labelledby='top-heading']/div/div/div/div[@class='mg-card-footer mg-card__footer mg-card__footer_type_image']/div/div/span[@class='mg-card-source__time']/text()\")\n",
    "# не забыть поправить ссылки\n",
    "links_news = dom.xpath(\"//section[@aria-labelledby='top-heading']/div/div/div/div[@class='mg-card__text-content']/div/h2/a/@href\")"
   ]
  },
  {
   "cell_type": "code",
   "execution_count": 62,
   "id": "334a2fbb",
   "metadata": {},
   "outputs": [
    {
     "name": "stdout",
     "output_type": "stream",
     "text": [
      "{'Глава МИД Лиз Трасс станет премьер-министром Великобритании': {'name': 'https://yandex.ru/news/', 'time': '22:29', 'links': 'https://yandex.ru/news/story/Glava_MID_Liz_Trass_stanet_premer-ministrom_Velikobritanii--d4ea9580b9b126152e9782d8c8f4e4dc?lang=ru&rubric=index&fan=1&stid=6YvqtItiZLs4Eakd4EVU&t=1662391986&tt=true&persistent_id=221544508&story=32fce4ec-d6a7-51ae-a443-b55f8aaaf37d'}, 'Песков: слова Борреля о\\xa0России обнуляют его как дипломата': {'name': 'https://yandex.ru/news/', 'time': '22:25', 'links': 'https://yandex.ru/news/story/Peskov_slova_Borrelya_oRossii_obnulyayut_ego_kak_diplomata--41b4e66f4211784e066ff3ee44868cb3?lang=ru&rubric=index&fan=1&stid=oyDGib0KmDreOnmYLIES&t=1662391986&tt=true&persistent_id=221709217&story=d38351c0-6109-5fd7-86a0-bad1c5771cff'}, 'Число погибших при\\xa0восхождении на\\xa0вулкан Ключевская сопка возросло до\\xa0девяти': {'name': 'https://yandex.ru/news/', 'time': '22:15', 'links': 'https://yandex.ru/news/story/CHislo_pogibshikh_privoskhozhdenii_navulkan_Klyuchevskaya_sopka_vozroslo_dodevyati--f3e868a3b01eb0a0361dc8cf61b8b8bd?lang=ru&rubric=index&fan=1&stid=EOMBM5XEJBwtfJknQj2j&t=1662391986&tt=true&persistent_id=221693782&story=56ce35ae-4057-551c-adf1-eb210b34e4bd'}, 'В\\xa0Харьковской области сложившие оружие военные ВСУ смогут вернуться к\\xa0семьям': {'name': 'https://yandex.ru/news/', 'time': '21:38', 'links': 'https://yandex.ru/news/story/VKHarkovskoj_oblasti_slozhivshie_oruzhie_voennye_VSU_smogut_vernutsya_ksemyam--033a331c53eb4f60565223bf8b7aa28b?lang=ru&rubric=index&fan=1&stid=Wx2lNnK8BvcExn5aC50F&t=1662391986&tt=true&persistent_id=221702507&story=88c42050-4fc5-5c77-b041-8f0df9775e92'}}\n"
     ]
    }
   ],
   "source": [
    "NEWS_dict = {}\n",
    "for i in range(len(name_news)):\n",
    "    NEWS_dict[name_news[i]] = {\n",
    "        'name' : url,\n",
    "        'time' : time_news[i],\n",
    "        'links' : links_news[i]\n",
    "    }\n",
    "    \n",
    "print(NEWS_dict)"
   ]
  }
 ],
 "metadata": {
  "kernelspec": {
   "display_name": "Python 3 (ipykernel)",
   "language": "python",
   "name": "python3"
  },
  "language_info": {
   "codemirror_mode": {
    "name": "ipython",
    "version": 3
   },
   "file_extension": ".py",
   "mimetype": "text/x-python",
   "name": "python",
   "nbconvert_exporter": "python",
   "pygments_lexer": "ipython3",
   "version": "3.9.7"
  }
 },
 "nbformat": 4,
 "nbformat_minor": 5
}
