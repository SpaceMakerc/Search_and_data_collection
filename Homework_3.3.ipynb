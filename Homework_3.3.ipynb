{
 "cells": [
  {
   "cell_type": "code",
   "execution_count": 1,
   "id": "b1210a92",
   "metadata": {},
   "outputs": [],
   "source": [
    "import requests\n",
    "from pprint import pprint\n",
    "from time import sleep\n",
    "import pandas as pd"
   ]
  },
  {
   "cell_type": "code",
   "execution_count": 2,
   "id": "ae844361",
   "metadata": {},
   "outputs": [],
   "source": [
    "from bs4 import BeautifulSoup as bs"
   ]
  },
  {
   "cell_type": "code",
   "execution_count": 3,
   "id": "d997e0ed",
   "metadata": {},
   "outputs": [
    {
     "data": {
      "text/plain": [
       "<Response [200]>"
      ]
     },
     "execution_count": 3,
     "metadata": {},
     "output_type": "execute_result"
    }
   ],
   "source": [
    "page = 0\n",
    "url = f'https://krasnoyarsk.hh.ru/search/vacancy?text=python&from=suggest_post&area=54&page={page}'\n",
    "headers = {'User-Agent' : 'Mozilla/5.0 (Windows NT 10.0; Win64; x64) AppleWebKit/537.36 (KHTML, like Gecko) Chrome/105.0.0.0 Safari/537.36 Edg/105.0.1343.33'}\n",
    "\n",
    "\n",
    "response = requests.get(url,headers=headers)\n",
    "response"
   ]
  },
  {
   "cell_type": "code",
   "execution_count": 57,
   "id": "b17864a1",
   "metadata": {},
   "outputs": [],
   "source": [
    "def make_correct_money(salary = None):\n",
    "    if salary == None:\n",
    "        return None\n",
    "    result = salary.replace('\\u202f', '').split()\n",
    "    max_salary = None\n",
    "    min_salary = None\n",
    "    currency = result[-1]\n",
    "    if result[0] == 'от':\n",
    "        min_salary = result[1]\n",
    "    elif result[0] == 'до':\n",
    "        max_salary = result[1]\n",
    "    else:\n",
    "        min_salary = result[0]\n",
    "        max_salary = result[2]\n",
    "    return([min_salary, max_salary, currency])"
   ]
  },
  {
   "cell_type": "code",
   "execution_count": 62,
   "id": "376b2c17",
   "metadata": {},
   "outputs": [],
   "source": [
    "def check_money(having = None):\n",
    "    if having == None:\n",
    "        return [None, None, None]\n",
    "    else:\n",
    "        return make_correct_money(having.text)"
   ]
  },
  {
   "cell_type": "code",
   "execution_count": 63,
   "id": "209852f3",
   "metadata": {},
   "outputs": [],
   "source": [
    "def parsing(page = None):\n",
    "    url = f'https://krasnoyarsk.hh.ru/search/vacancy?text=python&from=suggest_post&area=54&page={page}'\n",
    "    headers = {'User-Agent' : 'Mozilla/5.0 (Windows NT 10.0; Win64; x64) AppleWebKit/537.36 (KHTML, like Gecko) Chrome/105.0.0.0 Safari/537.36 Edg/105.0.1343.33'}\n",
    "    \n",
    "    response = requests.get(url,headers=headers)\n",
    "    dom = bs(response.text, 'html.parser')\n",
    "    # Name of works\n",
    "    result_list_vac = []\n",
    "    dict_vac = {}\n",
    "    for i in dom.find_all('div', {'class' : 'serp-item'}):\n",
    "        name = i.find('h3').text\n",
    "        link = i.find('a')['href']\n",
    "        money_for_check = i.find('span', {'class' : 'bloko-header-section-3'})\n",
    "        dict_vac = {'name' : name,\n",
    "                        'link' : link,\n",
    "                        'money' : check_money(money_for_check),\n",
    "                        'website' : 'hh.ru'}\n",
    "        result_list_vac.append(dict_vac)\n",
    "    page += 1\n",
    "    sleep(10)\n",
    "    if page <= 1:\n",
    "        parsing(page)\n",
    "    return result_list_vac"
   ]
  },
  {
   "cell_type": "code",
   "execution_count": 64,
   "id": "b3d8c31b",
   "metadata": {},
   "outputs": [
    {
     "data": {
      "text/plain": [
       "[{'name': 'Python разработчик',\n",
       "  'link': 'https://krasnoyarsk.hh.ru/vacancy/69704036?from=vacancy_search_list&hhtmFrom=vacancy_search_list&query=python',\n",
       "  'money': ['45000', None, 'руб.'],\n",
       "  'website': 'hh.ru'},\n",
       " {'name': 'Python Django разработчик, удаленно',\n",
       "  'link': 'https://krasnoyarsk.hh.ru/vacancy/69308348?from=vacancy_search_list&hhtmFrom=vacancy_search_list&query=python',\n",
       "  'money': ['150000', '200000', 'руб.'],\n",
       "  'website': 'hh.ru'},\n",
       " {'name': 'Python developer',\n",
       "  'link': 'https://krasnoyarsk.hh.ru/vacancy/68597229?from=vacancy_search_list&hhtmFrom=vacancy_search_list&query=python',\n",
       "  'money': [None, None, None],\n",
       "  'website': 'hh.ru'},\n",
       " {'name': 'Middle Python разработчик',\n",
       "  'link': 'https://krasnoyarsk.hh.ru/vacancy/69337199?from=vacancy_search_list&hhtmFrom=vacancy_search_list&query=python',\n",
       "  'money': ['150000', '250000', 'руб.'],\n",
       "  'website': 'hh.ru'},\n",
       " {'name': 'Преподаватель по программированию - Python',\n",
       "  'link': 'https://krasnoyarsk.hh.ru/vacancy/69598788?from=vacancy_search_list&hhtmFrom=vacancy_search_list&query=python',\n",
       "  'money': [None, None, None],\n",
       "  'website': 'hh.ru'},\n",
       " {'name': 'Python developer (middle)',\n",
       "  'link': 'https://krasnoyarsk.hh.ru/vacancy/69029158?from=vacancy_search_list&hhtmFrom=vacancy_search_list&query=python',\n",
       "  'money': [None, None, None],\n",
       "  'website': 'hh.ru'},\n",
       " {'name': 'Преподаватель программирования Python для детей',\n",
       "  'link': 'https://krasnoyarsk.hh.ru/vacancy/69187445?from=vacancy_search_list&hhtmFrom=vacancy_search_list&query=python',\n",
       "  'money': ['40000', '100000', 'руб.'],\n",
       "  'website': 'hh.ru'},\n",
       " {'name': 'Преподаватель программирования Python/C++ для детей онлайн',\n",
       "  'link': 'https://krasnoyarsk.hh.ru/vacancy/67988542?from=vacancy_search_list&hhtmFrom=vacancy_search_list&query=python',\n",
       "  'money': ['40000', '100000', 'руб.'],\n",
       "  'website': 'hh.ru'},\n",
       " {'name': 'Преподаватель программирования Python для детей онлайн',\n",
       "  'link': 'https://krasnoyarsk.hh.ru/vacancy/68215732?from=vacancy_search_list&hhtmFrom=vacancy_search_list&query=python',\n",
       "  'money': ['40000', '100000', 'руб.'],\n",
       "  'website': 'hh.ru'},\n",
       " {'name': 'Преподаватель курсов программирования онлайн',\n",
       "  'link': 'https://krasnoyarsk.hh.ru/vacancy/67988451?from=vacancy_search_list&hhtmFrom=vacancy_search_list&query=python',\n",
       "  'money': ['40000', '100000', 'руб.'],\n",
       "  'website': 'hh.ru'},\n",
       " {'name': 'Преподаватель - программист детской школы программирования (Python)',\n",
       "  'link': 'https://krasnoyarsk.hh.ru/vacancy/68855981?from=vacancy_search_list&hhtmFrom=vacancy_search_list&query=python',\n",
       "  'money': ['15000', '30000', 'руб.'],\n",
       "  'website': 'hh.ru'},\n",
       " {'name': 'DevOps-инженер (ОРИС)',\n",
       "  'link': 'https://krasnoyarsk.hh.ru/vacancy/68953226?from=vacancy_search_list&hhtmFrom=vacancy_search_list&query=python',\n",
       "  'money': [None, None, None],\n",
       "  'website': 'hh.ru'},\n",
       " {'name': 'Team Leader',\n",
       "  'link': 'https://krasnoyarsk.hh.ru/vacancy/69372768?from=vacancy_search_list&hhtmFrom=vacancy_search_list&query=python',\n",
       "  'money': ['80000', None, 'руб.'],\n",
       "  'website': 'hh.ru'},\n",
       " {'name': 'Старший аналитик SOC L2',\n",
       "  'link': 'https://krasnoyarsk.hh.ru/vacancy/54933563?from=vacancy_search_list&hhtmFrom=vacancy_search_list&query=python',\n",
       "  'money': [None, None, None],\n",
       "  'website': 'hh.ru'},\n",
       " {'name': 'Преподаватель дополнительного образования по Робототехнике/IT (Мобильный Кванториум)',\n",
       "  'link': 'https://krasnoyarsk.hh.ru/vacancy/69363050?from=vacancy_search_list&hhtmFrom=vacancy_search_list&query=python',\n",
       "  'money': ['35000', None, 'руб.'],\n",
       "  'website': 'hh.ru'},\n",
       " {'name': 'Инженер DevOps',\n",
       "  'link': 'https://krasnoyarsk.hh.ru/vacancy/69677831?from=vacancy_search_list&hhtmFrom=vacancy_search_list&query=python',\n",
       "  'money': ['150000', '300000', 'руб.'],\n",
       "  'website': 'hh.ru'},\n",
       " {'name': 'Маркетолог-аналитик в IT',\n",
       "  'link': 'https://krasnoyarsk.hh.ru/vacancy/69707358?from=vacancy_search_list&hhtmFrom=vacancy_search_list&query=python',\n",
       "  'money': ['30000', '50000', 'руб.'],\n",
       "  'website': 'hh.ru'},\n",
       " {'name': 'PHP разработчик (Senior)',\n",
       "  'link': 'https://krasnoyarsk.hh.ru/vacancy/68813165?from=vacancy_search_list&hhtmFrom=vacancy_search_list&query=python',\n",
       "  'money': [None, None, None],\n",
       "  'website': 'hh.ru'},\n",
       " {'name': 'Специалист службы поддержки с техническими знаниями (Браузер)',\n",
       "  'link': 'https://krasnoyarsk.hh.ru/vacancy/48221826?from=vacancy_search_list&hhtmFrom=vacancy_search_list&query=python',\n",
       "  'money': ['15000', None, 'руб.'],\n",
       "  'website': 'hh.ru'},\n",
       " {'name': 'Разработчик 1С',\n",
       "  'link': 'https://krasnoyarsk.hh.ru/vacancy/49135033?from=vacancy_search_list&hhtmFrom=vacancy_search_list&query=python',\n",
       "  'money': [None, '110000', 'руб.'],\n",
       "  'website': 'hh.ru'}]"
      ]
     },
     "execution_count": 64,
     "metadata": {},
     "output_type": "execute_result"
    }
   ],
   "source": [
    "parsing(0)"
   ]
  },
  {
   "cell_type": "code",
   "execution_count": null,
   "id": "2ef8f6ce",
   "metadata": {},
   "outputs": [],
   "source": []
  }
 ],
 "metadata": {
  "kernelspec": {
   "display_name": "Python 3 (ipykernel)",
   "language": "python",
   "name": "python3"
  },
  "language_info": {
   "codemirror_mode": {
    "name": "ipython",
    "version": 3
   },
   "file_extension": ".py",
   "mimetype": "text/x-python",
   "name": "python",
   "nbconvert_exporter": "python",
   "pygments_lexer": "ipython3",
   "version": "3.9.7"
  }
 },
 "nbformat": 4,
 "nbformat_minor": 5
}
